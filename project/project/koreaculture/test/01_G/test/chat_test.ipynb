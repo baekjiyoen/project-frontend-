{
 "cells": [
  {
   "cell_type": "code",
   "execution_count": 1,
   "metadata": {},
   "outputs": [
    {
     "name": "stderr",
     "output_type": "stream",
     "text": [
      "c:\\Users\\zqrc0\\anaconda3\\envs\\dlblm\\lib\\site-packages\\tqdm\\auto.py:21: TqdmWarning: IProgress not found. Please update jupyter and ipywidgets. See https://ipywidgets.readthedocs.io/en/stable/user_install.html\n",
      "  from .autonotebook import tqdm as notebook_tqdm\n"
     ]
    }
   ],
   "source": [
    "from langchain_huggingface import HuggingFaceEmbeddings\n",
    "from langchain.schema import Document\n",
    "from langchain.text_splitter import RecursiveCharacterTextSplitter\n",
    "from bs4 import BeautifulSoup as bs\n",
    "from langchain_community.vectorstores import Chroma\n",
    "import os\n",
    "import google.generativeai as genai\n",
    "import json"
   ]
  },
  {
   "cell_type": "code",
   "execution_count": 2,
   "metadata": {},
   "outputs": [
    {
     "name": "stdout",
     "output_type": "stream",
     "text": [
      "API 키 로딩이 완료되었습니다.\n",
      "Gemini 로딩이 완료되었습니다.\n",
      "sroberta 로딩이 완료되었습니다.\n"
     ]
    }
   ],
   "source": [
    "api_key_path = 'D:/important/APIkey.json'\n",
    "\n",
    "# API 키 및 모델 설정\n",
    "def load_api_key():\n",
    "    try:\n",
    "        with open(api_key_path, 'r') as file:\n",
    "            data = json.load(file)\n",
    "            print(\"API 키 로딩이 완료되었습니다.\")\n",
    "            return data.get('Gemini')\n",
    "    except FileNotFoundError:\n",
    "        print(\"API 키 파일을 찾을 수 없습니다.\")\n",
    "        return None\n",
    "    except json.JSONDecodeError:\n",
    "        print(\"API 키 파일의 JSON 형식이 올바르지 않습니다.\")\n",
    "        return None\n",
    "    \n",
    "# 모델 생성부 -----------------------------------------\n",
    "api_key = load_api_key()\n",
    "if api_key:\n",
    "    # Gemini 모델 생성\n",
    "    try:\n",
    "        genai.configure(api_key=api_key)\n",
    "        model = genai.GenerativeModel('gemini-1.5-flash')\n",
    "        print(\"Gemini 로딩이 완료되었습니다.\")\n",
    "    except Exception as e:\n",
    "        print(f\"Gemini 모델 생성 오류: {e}\")\n",
    "\n",
    "    # sroberta 모델 생성\n",
    "    try:\n",
    "        embedding = HuggingFaceEmbeddings(\n",
    "            model_name='jhgan/ko-sroberta-nli',\n",
    "            model_kwargs={'device': 'cpu'},\n",
    "            encode_kwargs={'normalize_embeddings': True}\n",
    "        )\n",
    "        print(\"sroberta 로딩이 완료되었습니다.\")\n",
    "    except Exception as e:\n",
    "        print(f\"sroberta 모델 생성 오류: {e}\")\n",
    "# -----------------------------------------------------"
   ]
  },
  {
   "cell_type": "code",
   "execution_count": null,
   "metadata": {},
   "outputs": [
    {
     "name": "stdout",
     "output_type": "stream",
     "text": [
      "[0, 2]\n"
     ]
    }
   ],
   "source": [
    "model.generate_content(prompt)"
   ]
  },
  {
   "cell_type": "code",
   "execution_count": null,
   "metadata": {},
   "outputs": [],
   "source": []
  }
 ],
 "metadata": {
  "kernelspec": {
   "display_name": "dlblm",
   "language": "python",
   "name": "python3"
  },
  "language_info": {
   "codemirror_mode": {
    "name": "ipython",
    "version": 3
   },
   "file_extension": ".py",
   "mimetype": "text/x-python",
   "name": "python",
   "nbconvert_exporter": "python",
   "pygments_lexer": "ipython3",
   "version": "3.10.15"
  }
 },
 "nbformat": 4,
 "nbformat_minor": 2
}
